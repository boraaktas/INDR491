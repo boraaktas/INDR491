{
 "cells": [
  {
   "cell_type": "code",
   "execution_count": 10,
   "id": "94c4b959",
   "metadata": {},
   "outputs": [],
   "source": [
    "import pandas as pd\n",
    "import datetime"
   ]
  },
  {
   "cell_type": "code",
   "execution_count": 28,
   "id": "65878ea9",
   "metadata": {},
   "outputs": [],
   "source": [
    "data = pd.read_csv(\"data/KS VERI/CLEAN_DATA/KS10_MERGED_RENAMED.csv\")\n",
    "timestamps = list(data.Timestamp)"
   ]
  },
  {
   "cell_type": "code",
   "execution_count": 4,
   "id": "eb507ded",
   "metadata": {},
   "outputs": [],
   "source": [
    "day_of_week = []\n",
    "for time in timestamps:\n",
    "    day_of_week.append(pd.to_datetime(time).day_of_week)\n",
    "data[\"day\"] = day_of_week\n",
    "data = pd.get_dummies(data, columns = [\"day\"]).iloc[:,[0,-7,-6,-5,-4,-3,-2]]"
   ]
  },
  {
   "cell_type": "code",
   "execution_count": 25,
   "id": "0d7535c1",
   "metadata": {},
   "outputs": [],
   "source": [
    "hour = []\n",
    "for time in timestamps:\n",
    "    hour.append(pd.to_datetime(time).hour)\n",
    "data[\"hour\"] = hour\n",
    "data = pd.get_dummies(data, columns = [\"hour\"]).iloc[:,:-1]"
   ]
  },
  {
   "cell_type": "code",
   "execution_count": 29,
   "id": "d97ac00d",
   "metadata": {},
   "outputs": [],
   "source": [
    "month = []\n",
    "for time in timestamps:\n",
    "    month.append(pd.to_datetime(time).month)\n",
    "data[\"month\"] = month\n",
    "data = pd.get_dummies(data, columns = [\"month\"])"
   ]
  },
  {
   "cell_type": "code",
   "execution_count": 43,
   "id": "10e1e358",
   "metadata": {},
   "outputs": [],
   "source": [
    "data.to_csv(\"dummies.csv\", index=False)"
   ]
  }
 ],
 "metadata": {
  "kernelspec": {
   "display_name": "Python 3 (ipykernel)",
   "language": "python",
   "name": "python3"
  },
  "language_info": {
   "codemirror_mode": {
    "name": "ipython",
    "version": 3
   },
   "file_extension": ".py",
   "mimetype": "text/x-python",
   "name": "python",
   "nbconvert_exporter": "python",
   "pygments_lexer": "ipython3",
   "version": "3.9.15"
  }
 },
 "nbformat": 4,
 "nbformat_minor": 5
}
