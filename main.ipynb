{
 "cells": [
  {
   "cell_type": "code",
   "execution_count": 1,
   "metadata": {},
   "outputs": [],
   "source": [
    "import pandas as pd\n",
    "import os \n",
    "import re    "
   ]
  },
  {
   "cell_type": "code",
   "execution_count": 2,
   "metadata": {},
   "outputs": [],
   "source": [
    "current_path = os.getcwd()\n",
    "MASTER_DATA_PATH = os.path.join(current_path, 'data/KS VERI/KS10_MASTER_DATA.xlsx')"
   ]
  },
  {
   "cell_type": "code",
   "execution_count": 3,
   "metadata": {},
   "outputs": [],
   "source": [
    "KS10_UDP_TUKETIM = pd.read_excel(MASTER_DATA_PATH, sheet_name='KS10_UDP_TUKETIM')\n",
    "KS10_KLIMA_TUKETIM = pd.read_excel(MASTER_DATA_PATH, sheet_name='KS10_KLIMA_TUKETIM')\n",
    "KS10_KLIMA_VERILERI = pd.read_excel(MASTER_DATA_PATH, sheet_name='KS10_KLIMA_VERILERI')\n",
    "KS10_SENSOR_I = pd.read_excel(MASTER_DATA_PATH, sheet_name='KS10_SENSOR_I')\n",
    "KS10_SENSOR_II = pd.read_excel(MASTER_DATA_PATH, sheet_name='KS10_SENSOR_II')\n",
    "CHILLER_MECHANIC_ROOM = pd.read_excel(MASTER_DATA_PATH, sheet_name='CHILLER_ve_MEKANİK_ROOM')\n",
    "CHILLER_SICAKLIK = pd.read_excel(MASTER_DATA_PATH, sheet_name='CHILLER')\n",
    "CHILLER_SICAKLIK_NONAN = pd.read_excel(MASTER_DATA_PATH, sheet_name='CHILLER_NONAN')\n",
    "CHILLER_SICAKLIK_NONAN_NOEXTREME = pd.read_excel(MASTER_DATA_PATH, sheet_name='CHILLER_NONAN_NOEXTREME_10_35')"
   ]
  },
  {
   "cell_type": "code",
   "execution_count": 4,
   "metadata": {},
   "outputs": [],
   "source": [
    "def get_INNER_TEMP(sensor_number: int,\n",
    "                   date_time: str) -> float:\n",
    "    \"\"\"\n",
    "    Get the closest inner temperature value to the given date time.\n",
    "    \n",
    "    Args:\n",
    "        sensor_number: The sensor number.\n",
    "        date_time: The date time.\n",
    "    \n",
    "    Returns:\n",
    "        The inner temperature value.\n",
    "    \"\"\"\n",
    "    \n",
    "    if sensor_number > 2 or sensor_number < 1:\n",
    "        raise ValueError('sensor_number must be 1 or 2.')\n",
    "    \n",
    "    # check if the date time is in the correct format with regex\n",
    "    '''if not re.match(r'\\d{2}\\.\\d{2}\\.\\d{4} \\d{2}:\\d{2}:\\d{2}', date_time):\n",
    "        raise ValueError('date_time must be in the format of dd.mm.yyyy hh:mm:ss')'''\n",
    "    \n",
    "    if sensor_number == 1:\n",
    "        sensor_df = KS10_SENSOR_I\n",
    "    else:\n",
    "        sensor_df = KS10_SENSOR_II\n",
    "        \n",
    "    # convert the date time to datetime object\n",
    "    date_time = pd.to_datetime(date_time)\n",
    "            \n",
    "    # find the closest date time\n",
    "    closest_date_time = sensor_df['Date Time'].iloc[(pd.to_datetime(sensor_df['Date Time']) - date_time).abs().argsort()[:1]].values[0]\n",
    "    \n",
    "    # get the inner temperature value\n",
    "    inner_temp = sensor_df[sensor_df['Date Time'] == closest_date_time]['KN-2 SENSOR-' + str(sensor_number) + ' ISI'].values[0]\n",
    "    \n",
    "    return inner_temp"
   ]
  },
  {
   "cell_type": "code",
   "execution_count": 5,
   "metadata": {},
   "outputs": [
    {
     "name": "stdout",
     "output_type": "stream",
     "text": [
      "27.2532\n"
     ]
    }
   ],
   "source": [
    "inner_temp: float = get_INNER_TEMP(sensor_number=1,\n",
    "                                       date_time='2020.08.26 10:16:00')\n",
    "    \n",
    "print(inner_temp)"
   ]
  }
 ],
 "metadata": {
  "kernelspec": {
   "display_name": "INDR491",
   "language": "python",
   "name": "python3"
  },
  "language_info": {
   "codemirror_mode": {
    "name": "ipython",
    "version": 3
   },
   "file_extension": ".py",
   "mimetype": "text/x-python",
   "name": "python",
   "nbconvert_exporter": "python",
   "pygments_lexer": "ipython3",
   "version": "3.11.5"
  }
 },
 "nbformat": 4,
 "nbformat_minor": 2
}
