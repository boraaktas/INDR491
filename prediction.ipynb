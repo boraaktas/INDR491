{
 "cells": [
  {
   "cell_type": "code",
   "execution_count": 1,
   "id": "9de60750",
   "metadata": {
    "ExecuteTime": {
     "end_time": "2023-11-26T03:13:10.460504Z",
     "start_time": "2023-11-26T03:13:09.507829Z"
    }
   },
   "outputs": [],
   "source": [
    "import pandas as pd\n",
    "import numpy as np\n",
    "import os\n",
    "import time\n",
    "import matplotlib.pyplot as plt\n",
    "import statsmodels.formula.api as sm\n",
    "from sklearn.linear_model import Ridge, RidgeCV, Lasso, LassoCV\n",
    "import warnings\n",
    "from sklearn.tree import DecisionTreeRegressor\n",
    "from sklearn.ensemble import RandomForestRegressor, GradientBoostingRegressor, BaggingRegressor"
   ]
  },
  {
   "cell_type": "code",
   "execution_count": 2,
   "id": "40722bdd",
   "metadata": {
    "ExecuteTime": {
     "end_time": "2023-11-26T03:13:10.624369Z",
     "start_time": "2023-11-26T03:13:10.460980Z"
    }
   },
   "outputs": [
    {
     "data": {
      "text/plain": "                 Timestamp       PUE  I_KOMP1_HIZ  I_KOMP1_SAAT  I_KOMP2_HIZ  \\\n0      2023-04-01 00:00:00  1.593893    25.000000        8968.0          0.0   \n1      2023-04-01 00:05:00  1.623764    45.200001        8968.0          0.0   \n2      2023-04-01 00:10:00  1.634981    25.700001        8968.0          0.0   \n3      2023-04-01 00:15:00  1.608970    28.400000        8968.0          0.0   \n4      2023-04-01 00:20:00  1.554008    28.000000        8968.0          0.0   \n...                    ...       ...          ...           ...          ...   \n59625  2023-10-25 00:45:00  1.611181    26.400000       13761.0          0.0   \n59626  2023-10-25 00:50:00  1.831158    39.200001       13761.0          0.0   \n59627  2023-10-25 00:55:00  1.627907    44.000000       13761.0          0.0   \n59628  2023-10-25 01:00:00  1.590126     0.000000       13761.0          0.0   \n59629  2023-10-25 01:05:00  1.773319    55.700001       13761.0          0.0   \n\n       I_KOMP2_SAAT  I_SIC_SET  I_NEM_SET  II_KOMP1_HIZ  II_KOMP1_SAAT  ...  \\\n0               3.0       45.0       23.0     36.200001        12770.0  ...   \n1               3.0       45.0       23.0     34.000000        12770.0  ...   \n2               3.0       45.0       23.0     34.700001        12770.0  ...   \n3               3.0       45.0       23.0     39.900002        12770.0  ...   \n4               3.0       45.0       23.0     36.900002        12770.0  ...   \n...             ...        ...        ...           ...            ...  ...   \n59625           3.0       45.0       22.0      0.000000        17241.0  ...   \n59626           3.0       45.0       22.0     49.700001        17241.0  ...   \n59627           3.0       45.0       22.0      0.000000        17241.0  ...   \n59628           3.0       45.0       22.0     29.400000        17241.0  ...   \n59629           3.0       45.0       22.0      0.000000        17241.0  ...   \n\n       month_2  month_3  month_4  month_5  month_6  month_7  month_8  month_9  \\\n0            0        0        1        0        0        0        0        0   \n1            0        0        1        0        0        0        0        0   \n2            0        0        1        0        0        0        0        0   \n3            0        0        1        0        0        0        0        0   \n4            0        0        1        0        0        0        0        0   \n...        ...      ...      ...      ...      ...      ...      ...      ...   \n59625        0        0        0        0        0        0        0        0   \n59626        0        0        0        0        0        0        0        0   \n59627        0        0        0        0        0        0        0        0   \n59628        0        0        0        0        0        0        0        0   \n59629        0        0        0        0        0        0        0        0   \n\n       month_10  month_11  \n0             0         0  \n1             0         0  \n2             0         0  \n3             0         0  \n4             0         0  \n...         ...       ...  \n59625         1         0  \n59626         1         0  \n59627         1         0  \n59628         1         0  \n59629         1         0  \n\n[59630 rows x 76 columns]",
      "text/html": "<div>\n<style scoped>\n    .dataframe tbody tr th:only-of-type {\n        vertical-align: middle;\n    }\n\n    .dataframe tbody tr th {\n        vertical-align: top;\n    }\n\n    .dataframe thead th {\n        text-align: right;\n    }\n</style>\n<table border=\"1\" class=\"dataframe\">\n  <thead>\n    <tr style=\"text-align: right;\">\n      <th></th>\n      <th>Timestamp</th>\n      <th>PUE</th>\n      <th>I_KOMP1_HIZ</th>\n      <th>I_KOMP1_SAAT</th>\n      <th>I_KOMP2_HIZ</th>\n      <th>I_KOMP2_SAAT</th>\n      <th>I_SIC_SET</th>\n      <th>I_NEM_SET</th>\n      <th>II_KOMP1_HIZ</th>\n      <th>II_KOMP1_SAAT</th>\n      <th>...</th>\n      <th>month_2</th>\n      <th>month_3</th>\n      <th>month_4</th>\n      <th>month_5</th>\n      <th>month_6</th>\n      <th>month_7</th>\n      <th>month_8</th>\n      <th>month_9</th>\n      <th>month_10</th>\n      <th>month_11</th>\n    </tr>\n  </thead>\n  <tbody>\n    <tr>\n      <th>0</th>\n      <td>2023-04-01 00:00:00</td>\n      <td>1.593893</td>\n      <td>25.000000</td>\n      <td>8968.0</td>\n      <td>0.0</td>\n      <td>3.0</td>\n      <td>45.0</td>\n      <td>23.0</td>\n      <td>36.200001</td>\n      <td>12770.0</td>\n      <td>...</td>\n      <td>0</td>\n      <td>0</td>\n      <td>1</td>\n      <td>0</td>\n      <td>0</td>\n      <td>0</td>\n      <td>0</td>\n      <td>0</td>\n      <td>0</td>\n      <td>0</td>\n    </tr>\n    <tr>\n      <th>1</th>\n      <td>2023-04-01 00:05:00</td>\n      <td>1.623764</td>\n      <td>45.200001</td>\n      <td>8968.0</td>\n      <td>0.0</td>\n      <td>3.0</td>\n      <td>45.0</td>\n      <td>23.0</td>\n      <td>34.000000</td>\n      <td>12770.0</td>\n      <td>...</td>\n      <td>0</td>\n      <td>0</td>\n      <td>1</td>\n      <td>0</td>\n      <td>0</td>\n      <td>0</td>\n      <td>0</td>\n      <td>0</td>\n      <td>0</td>\n      <td>0</td>\n    </tr>\n    <tr>\n      <th>2</th>\n      <td>2023-04-01 00:10:00</td>\n      <td>1.634981</td>\n      <td>25.700001</td>\n      <td>8968.0</td>\n      <td>0.0</td>\n      <td>3.0</td>\n      <td>45.0</td>\n      <td>23.0</td>\n      <td>34.700001</td>\n      <td>12770.0</td>\n      <td>...</td>\n      <td>0</td>\n      <td>0</td>\n      <td>1</td>\n      <td>0</td>\n      <td>0</td>\n      <td>0</td>\n      <td>0</td>\n      <td>0</td>\n      <td>0</td>\n      <td>0</td>\n    </tr>\n    <tr>\n      <th>3</th>\n      <td>2023-04-01 00:15:00</td>\n      <td>1.608970</td>\n      <td>28.400000</td>\n      <td>8968.0</td>\n      <td>0.0</td>\n      <td>3.0</td>\n      <td>45.0</td>\n      <td>23.0</td>\n      <td>39.900002</td>\n      <td>12770.0</td>\n      <td>...</td>\n      <td>0</td>\n      <td>0</td>\n      <td>1</td>\n      <td>0</td>\n      <td>0</td>\n      <td>0</td>\n      <td>0</td>\n      <td>0</td>\n      <td>0</td>\n      <td>0</td>\n    </tr>\n    <tr>\n      <th>4</th>\n      <td>2023-04-01 00:20:00</td>\n      <td>1.554008</td>\n      <td>28.000000</td>\n      <td>8968.0</td>\n      <td>0.0</td>\n      <td>3.0</td>\n      <td>45.0</td>\n      <td>23.0</td>\n      <td>36.900002</td>\n      <td>12770.0</td>\n      <td>...</td>\n      <td>0</td>\n      <td>0</td>\n      <td>1</td>\n      <td>0</td>\n      <td>0</td>\n      <td>0</td>\n      <td>0</td>\n      <td>0</td>\n      <td>0</td>\n      <td>0</td>\n    </tr>\n    <tr>\n      <th>...</th>\n      <td>...</td>\n      <td>...</td>\n      <td>...</td>\n      <td>...</td>\n      <td>...</td>\n      <td>...</td>\n      <td>...</td>\n      <td>...</td>\n      <td>...</td>\n      <td>...</td>\n      <td>...</td>\n      <td>...</td>\n      <td>...</td>\n      <td>...</td>\n      <td>...</td>\n      <td>...</td>\n      <td>...</td>\n      <td>...</td>\n      <td>...</td>\n      <td>...</td>\n      <td>...</td>\n    </tr>\n    <tr>\n      <th>59625</th>\n      <td>2023-10-25 00:45:00</td>\n      <td>1.611181</td>\n      <td>26.400000</td>\n      <td>13761.0</td>\n      <td>0.0</td>\n      <td>3.0</td>\n      <td>45.0</td>\n      <td>22.0</td>\n      <td>0.000000</td>\n      <td>17241.0</td>\n      <td>...</td>\n      <td>0</td>\n      <td>0</td>\n      <td>0</td>\n      <td>0</td>\n      <td>0</td>\n      <td>0</td>\n      <td>0</td>\n      <td>0</td>\n      <td>1</td>\n      <td>0</td>\n    </tr>\n    <tr>\n      <th>59626</th>\n      <td>2023-10-25 00:50:00</td>\n      <td>1.831158</td>\n      <td>39.200001</td>\n      <td>13761.0</td>\n      <td>0.0</td>\n      <td>3.0</td>\n      <td>45.0</td>\n      <td>22.0</td>\n      <td>49.700001</td>\n      <td>17241.0</td>\n      <td>...</td>\n      <td>0</td>\n      <td>0</td>\n      <td>0</td>\n      <td>0</td>\n      <td>0</td>\n      <td>0</td>\n      <td>0</td>\n      <td>0</td>\n      <td>1</td>\n      <td>0</td>\n    </tr>\n    <tr>\n      <th>59627</th>\n      <td>2023-10-25 00:55:00</td>\n      <td>1.627907</td>\n      <td>44.000000</td>\n      <td>13761.0</td>\n      <td>0.0</td>\n      <td>3.0</td>\n      <td>45.0</td>\n      <td>22.0</td>\n      <td>0.000000</td>\n      <td>17241.0</td>\n      <td>...</td>\n      <td>0</td>\n      <td>0</td>\n      <td>0</td>\n      <td>0</td>\n      <td>0</td>\n      <td>0</td>\n      <td>0</td>\n      <td>0</td>\n      <td>1</td>\n      <td>0</td>\n    </tr>\n    <tr>\n      <th>59628</th>\n      <td>2023-10-25 01:00:00</td>\n      <td>1.590126</td>\n      <td>0.000000</td>\n      <td>13761.0</td>\n      <td>0.0</td>\n      <td>3.0</td>\n      <td>45.0</td>\n      <td>22.0</td>\n      <td>29.400000</td>\n      <td>17241.0</td>\n      <td>...</td>\n      <td>0</td>\n      <td>0</td>\n      <td>0</td>\n      <td>0</td>\n      <td>0</td>\n      <td>0</td>\n      <td>0</td>\n      <td>0</td>\n      <td>1</td>\n      <td>0</td>\n    </tr>\n    <tr>\n      <th>59629</th>\n      <td>2023-10-25 01:05:00</td>\n      <td>1.773319</td>\n      <td>55.700001</td>\n      <td>13761.0</td>\n      <td>0.0</td>\n      <td>3.0</td>\n      <td>45.0</td>\n      <td>22.0</td>\n      <td>0.000000</td>\n      <td>17241.0</td>\n      <td>...</td>\n      <td>0</td>\n      <td>0</td>\n      <td>0</td>\n      <td>0</td>\n      <td>0</td>\n      <td>0</td>\n      <td>0</td>\n      <td>0</td>\n      <td>1</td>\n      <td>0</td>\n    </tr>\n  </tbody>\n</table>\n<p>59630 rows × 76 columns</p>\n</div>"
     },
     "execution_count": 2,
     "metadata": {},
     "output_type": "execute_result"
    }
   ],
   "source": [
    "FINAL_DATA = pd.read_csv(\"data/KS VERI/KS10_FINAL_DATA.csv\")\n",
    "FINAL_DATA"
   ]
  },
  {
   "cell_type": "code",
   "execution_count": 3,
   "outputs": [
    {
     "name": "stdout",
     "output_type": "stream",
     "text": [
      "Columns that has the same value for all rows:\n",
      "I_KOMP2_HIZ\n",
      "I_KOMP2_SAAT\n",
      "I_SIC_SET\n",
      "II_KOMP2_HIZ\n",
      "II_KOMP2_SAAT\n",
      "II_SIC_SET\n",
      "III_KOMP2_HIZ\n",
      "III_SIC_SET\n",
      "IV_KOMP2_HIZ\n",
      "IV_NEM_SET\n",
      "month_1\n",
      "month_2\n",
      "month_3\n",
      "month_11\n"
     ]
    }
   ],
   "source": [
    "# drop columns that has the same value for all rows\n",
    "print(\"Columns that has the same value for all rows:\")\n",
    "for col in FINAL_DATA.columns:\n",
    "    if len(FINAL_DATA[col].unique()) == 1:\n",
    "        print(col)"
   ],
   "metadata": {
    "collapsed": false,
    "ExecuteTime": {
     "end_time": "2023-11-26T03:13:10.647620Z",
     "start_time": "2023-11-26T03:13:10.625433Z"
    }
   },
   "id": "61370dc590e12e69"
  },
  {
   "cell_type": "code",
   "execution_count": 4,
   "outputs": [
    {
     "data": {
      "text/plain": "                 Timestamp       PUE  I_KOMP1_HIZ  I_KOMP1_SAAT  I_KOMP2_HIZ  \\\n0      2023-04-02 00:00:00  1.576731    25.000000        8991.0          0.0   \n1      2023-04-02 00:05:00  1.621673    25.700001        8992.0          0.0   \n2      2023-04-02 00:10:00  1.645333    31.000000        8992.0          0.0   \n3      2023-04-02 00:15:00  1.603257    29.500000        8992.0          0.0   \n4      2023-04-02 00:20:00  1.588868    37.500000        8992.0          0.0   \n...                    ...       ...          ...           ...          ...   \n59337  2023-10-25 00:45:00  1.611181    26.400000       13761.0          0.0   \n59338  2023-10-25 00:50:00  1.831158    39.200001       13761.0          0.0   \n59339  2023-10-25 00:55:00  1.627907    44.000000       13761.0          0.0   \n59340  2023-10-25 01:00:00  1.590126     0.000000       13761.0          0.0   \n59341  2023-10-25 01:05:00  1.773319    55.700001       13761.0          0.0   \n\n       I_KOMP2_SAAT  I_SIC_SET  I_NEM_SET  II_KOMP1_HIZ  II_KOMP1_SAAT  ...  \\\n0               3.0       45.0       23.0     40.000000        12794.0  ...   \n1               3.0       45.0       23.0     36.200001        12794.0  ...   \n2               3.0       45.0       23.0     27.200001        12794.0  ...   \n3               3.0       45.0       23.0     30.200001        12794.0  ...   \n4               3.0       45.0       23.0     35.799999        12794.0  ...   \n...             ...        ...        ...           ...            ...  ...   \n59337           3.0       45.0       22.0      0.000000        17241.0  ...   \n59338           3.0       45.0       22.0     49.700001        17241.0  ...   \n59339           3.0       45.0       22.0      0.000000        17241.0  ...   \n59340           3.0       45.0       22.0     29.400000        17241.0  ...   \n59341           3.0       45.0       22.0      0.000000        17241.0  ...   \n\n       month_4  month_5  month_6  month_7  month_8  month_9  month_10  \\\n0            0        0        0        0        0        0         0   \n1            0        0        0        0        0        0         0   \n2            0        0        0        0        0        0         0   \n3            0        0        0        0        0        0         0   \n4            0        0        0        0        0        0         0   \n...        ...      ...      ...      ...      ...      ...       ...   \n59337        0        0        0        0        0        0         1   \n59338        0        0        0        0        0        0         1   \n59339        0        0        0        0        0        0         1   \n59340        0        0        0        0        0        0         1   \n59341        0        0        0        0        0        0         1   \n\n       month_11  PUE_lag_1  PUE_lag_one_day  \n0             0   1.571346         1.593893  \n1             0   1.576731         1.623764  \n2             0   1.621673         1.634981  \n3             0   1.645333         1.608970  \n4             0   1.603257         1.554008  \n...         ...        ...              ...  \n59337         0   1.752532         1.566098  \n59338         0   1.611181         1.681818  \n59339         0   1.831158         1.637288  \n59340         0   1.627907         1.822105  \n59341         0   1.590126         1.747789  \n\n[59342 rows x 78 columns]",
      "text/html": "<div>\n<style scoped>\n    .dataframe tbody tr th:only-of-type {\n        vertical-align: middle;\n    }\n\n    .dataframe tbody tr th {\n        vertical-align: top;\n    }\n\n    .dataframe thead th {\n        text-align: right;\n    }\n</style>\n<table border=\"1\" class=\"dataframe\">\n  <thead>\n    <tr style=\"text-align: right;\">\n      <th></th>\n      <th>Timestamp</th>\n      <th>PUE</th>\n      <th>I_KOMP1_HIZ</th>\n      <th>I_KOMP1_SAAT</th>\n      <th>I_KOMP2_HIZ</th>\n      <th>I_KOMP2_SAAT</th>\n      <th>I_SIC_SET</th>\n      <th>I_NEM_SET</th>\n      <th>II_KOMP1_HIZ</th>\n      <th>II_KOMP1_SAAT</th>\n      <th>...</th>\n      <th>month_4</th>\n      <th>month_5</th>\n      <th>month_6</th>\n      <th>month_7</th>\n      <th>month_8</th>\n      <th>month_9</th>\n      <th>month_10</th>\n      <th>month_11</th>\n      <th>PUE_lag_1</th>\n      <th>PUE_lag_one_day</th>\n    </tr>\n  </thead>\n  <tbody>\n    <tr>\n      <th>0</th>\n      <td>2023-04-02 00:00:00</td>\n      <td>1.576731</td>\n      <td>25.000000</td>\n      <td>8991.0</td>\n      <td>0.0</td>\n      <td>3.0</td>\n      <td>45.0</td>\n      <td>23.0</td>\n      <td>40.000000</td>\n      <td>12794.0</td>\n      <td>...</td>\n      <td>0</td>\n      <td>0</td>\n      <td>0</td>\n      <td>0</td>\n      <td>0</td>\n      <td>0</td>\n      <td>0</td>\n      <td>0</td>\n      <td>1.571346</td>\n      <td>1.593893</td>\n    </tr>\n    <tr>\n      <th>1</th>\n      <td>2023-04-02 00:05:00</td>\n      <td>1.621673</td>\n      <td>25.700001</td>\n      <td>8992.0</td>\n      <td>0.0</td>\n      <td>3.0</td>\n      <td>45.0</td>\n      <td>23.0</td>\n      <td>36.200001</td>\n      <td>12794.0</td>\n      <td>...</td>\n      <td>0</td>\n      <td>0</td>\n      <td>0</td>\n      <td>0</td>\n      <td>0</td>\n      <td>0</td>\n      <td>0</td>\n      <td>0</td>\n      <td>1.576731</td>\n      <td>1.623764</td>\n    </tr>\n    <tr>\n      <th>2</th>\n      <td>2023-04-02 00:10:00</td>\n      <td>1.645333</td>\n      <td>31.000000</td>\n      <td>8992.0</td>\n      <td>0.0</td>\n      <td>3.0</td>\n      <td>45.0</td>\n      <td>23.0</td>\n      <td>27.200001</td>\n      <td>12794.0</td>\n      <td>...</td>\n      <td>0</td>\n      <td>0</td>\n      <td>0</td>\n      <td>0</td>\n      <td>0</td>\n      <td>0</td>\n      <td>0</td>\n      <td>0</td>\n      <td>1.621673</td>\n      <td>1.634981</td>\n    </tr>\n    <tr>\n      <th>3</th>\n      <td>2023-04-02 00:15:00</td>\n      <td>1.603257</td>\n      <td>29.500000</td>\n      <td>8992.0</td>\n      <td>0.0</td>\n      <td>3.0</td>\n      <td>45.0</td>\n      <td>23.0</td>\n      <td>30.200001</td>\n      <td>12794.0</td>\n      <td>...</td>\n      <td>0</td>\n      <td>0</td>\n      <td>0</td>\n      <td>0</td>\n      <td>0</td>\n      <td>0</td>\n      <td>0</td>\n      <td>0</td>\n      <td>1.645333</td>\n      <td>1.608970</td>\n    </tr>\n    <tr>\n      <th>4</th>\n      <td>2023-04-02 00:20:00</td>\n      <td>1.588868</td>\n      <td>37.500000</td>\n      <td>8992.0</td>\n      <td>0.0</td>\n      <td>3.0</td>\n      <td>45.0</td>\n      <td>23.0</td>\n      <td>35.799999</td>\n      <td>12794.0</td>\n      <td>...</td>\n      <td>0</td>\n      <td>0</td>\n      <td>0</td>\n      <td>0</td>\n      <td>0</td>\n      <td>0</td>\n      <td>0</td>\n      <td>0</td>\n      <td>1.603257</td>\n      <td>1.554008</td>\n    </tr>\n    <tr>\n      <th>...</th>\n      <td>...</td>\n      <td>...</td>\n      <td>...</td>\n      <td>...</td>\n      <td>...</td>\n      <td>...</td>\n      <td>...</td>\n      <td>...</td>\n      <td>...</td>\n      <td>...</td>\n      <td>...</td>\n      <td>...</td>\n      <td>...</td>\n      <td>...</td>\n      <td>...</td>\n      <td>...</td>\n      <td>...</td>\n      <td>...</td>\n      <td>...</td>\n      <td>...</td>\n      <td>...</td>\n    </tr>\n    <tr>\n      <th>59337</th>\n      <td>2023-10-25 00:45:00</td>\n      <td>1.611181</td>\n      <td>26.400000</td>\n      <td>13761.0</td>\n      <td>0.0</td>\n      <td>3.0</td>\n      <td>45.0</td>\n      <td>22.0</td>\n      <td>0.000000</td>\n      <td>17241.0</td>\n      <td>...</td>\n      <td>0</td>\n      <td>0</td>\n      <td>0</td>\n      <td>0</td>\n      <td>0</td>\n      <td>0</td>\n      <td>1</td>\n      <td>0</td>\n      <td>1.752532</td>\n      <td>1.566098</td>\n    </tr>\n    <tr>\n      <th>59338</th>\n      <td>2023-10-25 00:50:00</td>\n      <td>1.831158</td>\n      <td>39.200001</td>\n      <td>13761.0</td>\n      <td>0.0</td>\n      <td>3.0</td>\n      <td>45.0</td>\n      <td>22.0</td>\n      <td>49.700001</td>\n      <td>17241.0</td>\n      <td>...</td>\n      <td>0</td>\n      <td>0</td>\n      <td>0</td>\n      <td>0</td>\n      <td>0</td>\n      <td>0</td>\n      <td>1</td>\n      <td>0</td>\n      <td>1.611181</td>\n      <td>1.681818</td>\n    </tr>\n    <tr>\n      <th>59339</th>\n      <td>2023-10-25 00:55:00</td>\n      <td>1.627907</td>\n      <td>44.000000</td>\n      <td>13761.0</td>\n      <td>0.0</td>\n      <td>3.0</td>\n      <td>45.0</td>\n      <td>22.0</td>\n      <td>0.000000</td>\n      <td>17241.0</td>\n      <td>...</td>\n      <td>0</td>\n      <td>0</td>\n      <td>0</td>\n      <td>0</td>\n      <td>0</td>\n      <td>0</td>\n      <td>1</td>\n      <td>0</td>\n      <td>1.831158</td>\n      <td>1.637288</td>\n    </tr>\n    <tr>\n      <th>59340</th>\n      <td>2023-10-25 01:00:00</td>\n      <td>1.590126</td>\n      <td>0.000000</td>\n      <td>13761.0</td>\n      <td>0.0</td>\n      <td>3.0</td>\n      <td>45.0</td>\n      <td>22.0</td>\n      <td>29.400000</td>\n      <td>17241.0</td>\n      <td>...</td>\n      <td>0</td>\n      <td>0</td>\n      <td>0</td>\n      <td>0</td>\n      <td>0</td>\n      <td>0</td>\n      <td>1</td>\n      <td>0</td>\n      <td>1.627907</td>\n      <td>1.822105</td>\n    </tr>\n    <tr>\n      <th>59341</th>\n      <td>2023-10-25 01:05:00</td>\n      <td>1.773319</td>\n      <td>55.700001</td>\n      <td>13761.0</td>\n      <td>0.0</td>\n      <td>3.0</td>\n      <td>45.0</td>\n      <td>22.0</td>\n      <td>0.000000</td>\n      <td>17241.0</td>\n      <td>...</td>\n      <td>0</td>\n      <td>0</td>\n      <td>0</td>\n      <td>0</td>\n      <td>0</td>\n      <td>0</td>\n      <td>1</td>\n      <td>0</td>\n      <td>1.590126</td>\n      <td>1.747789</td>\n    </tr>\n  </tbody>\n</table>\n<p>59342 rows × 78 columns</p>\n</div>"
     },
     "execution_count": 4,
     "metadata": {},
     "output_type": "execute_result"
    }
   ],
   "source": [
    "# add extra columns\n",
    "DATA = FINAL_DATA.copy()\n",
    "DATA[\"PUE_lag_\" + str(1)] = DATA[\"PUE\"].shift(1)\n",
    "DATA[\"PUE_lag_one_day\"] = DATA[\"PUE\"].shift(24*12)\n",
    "\n",
    "DATA.dropna(inplace=True)\n",
    "DATA.reset_index(drop=True, inplace=True)\n",
    "DATA"
   ],
   "metadata": {
    "collapsed": false,
    "ExecuteTime": {
     "end_time": "2023-11-26T03:13:10.731131Z",
     "start_time": "2023-11-26T03:13:10.648919Z"
    }
   },
   "id": "56e7157c1d3cc716"
  },
  {
   "cell_type": "code",
   "execution_count": 5,
   "outputs": [
    {
     "name": "stdout",
     "output_type": "stream",
     "text": [
      "np.log(PUE-1) ~ I_KOMP1_HIZ + I_KOMP1_SAAT + I_KOMP2_HIZ + I_KOMP2_SAAT + I_SIC_SET + I_NEM_SET + II_KOMP1_HIZ + II_KOMP1_SAAT + II_KOMP2_HIZ + II_KOMP2_SAAT + II_SIC_SET + II_NEM_SET + III_KOMP1_HIZ + III_KOMP1_SAAT + III_KOMP2_HIZ + III_KOMP2_SAAT + III_SIC_SET + III_NEM_SET + IV_KOMP1_HIZ + IV_KOMP1_SAAT + IV_KOMP2_HIZ + IV_KOMP2_SAAT + IV_NEM_SET + CH1_CIKIS_SIC + CH1_GIRIS_SIC + CH2_CIKIS_SIC + CH2_GIRIS_SIC + CH3_CIKIS_SIC + CH3_GIRIS_SIC + SENSOR_I_TEMP + SENSOR_II_TEMP + OUTLET_TEMP + OUTLET_HUMIDITY + Mon + Tue + Wed + Thu + Fri + Sat + hour_0 + hour_1 + hour_2 + hour_3 + hour_4 + hour_5 + hour_6 + hour_7 + hour_8 + hour_9 + hour_10 + hour_11 + hour_12 + hour_13 + hour_14 + hour_15 + hour_16 + hour_17 + hour_18 + hour_19 + hour_20 + hour_21 + hour_22 + hour_23 + month_1 + month_2 + month_3 + month_4 + month_5 + month_6 + month_7 + month_8 + month_9 + month_10 + month_11 + PUE_lag_1 + PUE_lag_one_day\n"
     ]
    }
   ],
   "source": [
    "formula_x = \"np.log(PUE-1)\"\n",
    "\n",
    "formula_y = \"\"\n",
    "for i in range(2, len(DATA.columns)):\n",
    "    formula_y += DATA.columns[i] + \" + \"\n",
    "    \n",
    "formula_y = formula_y[:-3]\n",
    "\n",
    "formula = formula_x + \" ~ \" + formula_y\n",
    "print(formula)"
   ],
   "metadata": {
    "collapsed": false,
    "ExecuteTime": {
     "end_time": "2023-11-26T03:13:10.731235Z",
     "start_time": "2023-11-26T03:13:10.686235Z"
    }
   },
   "id": "41f17c601b5f513a"
  },
  {
   "cell_type": "code",
   "execution_count": 6,
   "id": "79c53121",
   "metadata": {
    "ExecuteTime": {
     "end_time": "2023-11-26T03:13:11.252394Z",
     "start_time": "2023-11-26T03:13:10.694644Z"
    }
   },
   "outputs": [
    {
     "name": "stdout",
     "output_type": "stream",
     "text": [
      "                            OLS Regression Results                            \n",
      "==============================================================================\n",
      "Dep. Variable:        np.log(PUE - 1)   R-squared:                       0.685\n",
      "Model:                            OLS   Adj. R-squared:                  0.685\n",
      "Method:                 Least Squares   F-statistic:                     2151.\n",
      "Date:                Sun, 26 Nov 2023   Prob (F-statistic):               0.00\n",
      "Time:                        06:13:11   Log-Likelihood:                 73822.\n",
      "No. Observations:               59342   AIC:                        -1.475e+05\n",
      "Df Residuals:                   59281   BIC:                        -1.470e+05\n",
      "Df Model:                          60                                         \n",
      "Covariance Type:            nonrobust                                         \n",
      "===================================================================================\n",
      "                      coef    std err          t      P>|t|      [0.025      0.975]\n",
      "-----------------------------------------------------------------------------------\n",
      "Intercept           0.0002   3.11e-05      5.416      0.000       0.000       0.000\n",
      "I_KOMP1_HIZ         0.0036   3.11e-05    115.310      0.000       0.004       0.004\n",
      "I_KOMP1_SAAT       -0.0002   1.62e-05    -13.762      0.000      -0.000      -0.000\n",
      "I_KOMP2_HIZ      2.244e-16   3.39e-17      6.624      0.000    1.58e-16    2.91e-16\n",
      "I_KOMP2_SAAT        0.0005   9.34e-05      5.416      0.000       0.000       0.001\n",
      "I_SIC_SET           0.0076      0.001      5.416      0.000       0.005       0.010\n",
      "I_NEM_SET           0.0101      0.006      1.769      0.077      -0.001       0.021\n",
      "II_KOMP1_HIZ        0.0046   2.86e-05    161.882      0.000       0.005       0.005\n",
      "II_KOMP1_SAAT    8.099e-05   2.92e-05      2.775      0.006    2.38e-05       0.000\n",
      "II_KOMP2_HIZ     7.212e-16   8.16e-17      8.838      0.000    5.61e-16    8.81e-16\n",
      "II_KOMP2_SAAT       0.0010      0.000      5.416      0.000       0.001       0.001\n",
      "II_SIC_SET          0.0076      0.001      5.416      0.000       0.005       0.010\n",
      "II_NEM_SET         -0.0252      0.005     -5.169      0.000      -0.035      -0.016\n",
      "III_KOMP1_HIZ       0.0029   1.97e-05    147.264      0.000       0.003       0.003\n",
      "III_KOMP1_SAAT   5.539e-06   4.04e-06      1.372      0.170   -2.37e-06    1.35e-05\n",
      "III_KOMP2_HIZ    -6.65e-17   9.69e-18     -6.862      0.000   -8.55e-17   -4.75e-17\n",
      "III_KOMP2_SAAT      0.0006   4.63e-05     12.476      0.000       0.000       0.001\n",
      "III_SIC_SET         0.0076      0.001      5.416      0.000       0.005       0.010\n",
      "III_NEM_SET        -0.1311      0.003    -46.491      0.000      -0.137      -0.126\n",
      "IV_KOMP1_HIZ        0.0034   2.65e-05    128.659      0.000       0.003       0.003\n",
      "IV_KOMP1_SAAT       0.0002   3.15e-05      5.438      0.000       0.000       0.000\n",
      "IV_KOMP2_HIZ     4.902e-18   5.53e-18      0.886      0.376   -5.94e-18    1.57e-17\n",
      "IV_KOMP2_SAAT       0.0014   2.08e-05     65.362      0.000       0.001       0.001\n",
      "IV_NEM_SET          0.0076      0.001      5.416      0.000       0.005       0.010\n",
      "CH1_CIKIS_SIC      -0.0302      0.001    -58.922      0.000      -0.031      -0.029\n",
      "CH1_GIRIS_SIC      -0.0624      0.000   -126.793      0.000      -0.063      -0.061\n",
      "CH2_CIKIS_SIC       0.0070      0.000     42.396      0.000       0.007       0.007\n",
      "CH2_GIRIS_SIC       0.0006   3.25e-05     17.307      0.000       0.000       0.001\n",
      "CH3_CIKIS_SIC       0.0042      0.001      7.502      0.000       0.003       0.005\n",
      "CH3_GIRIS_SIC      -0.0121      0.001    -11.338      0.000      -0.014      -0.010\n",
      "SENSOR_I_TEMP       0.0034      0.001      6.271      0.000       0.002       0.004\n",
      "SENSOR_II_TEMP     -0.0026      0.001     -2.697      0.007      -0.004      -0.001\n",
      "OUTLET_TEMP         0.0009      0.001      1.465      0.143      -0.000       0.002\n",
      "OUTLET_HUMIDITY     0.0041      0.001      2.789      0.005       0.001       0.007\n",
      "Mon                -0.0018      0.001     -2.233      0.026      -0.003      -0.000\n",
      "Tue                -0.0004      0.001     -0.512      0.608      -0.002       0.001\n",
      "Wed                 0.0002      0.001      0.287      0.774      -0.001       0.002\n",
      "Thu                 0.0027      0.001      3.316      0.001       0.001       0.004\n",
      "Fri                 0.0030      0.001      3.707      0.000       0.001       0.005\n",
      "Sat                 0.0002      0.001      0.296      0.768      -0.001       0.002\n",
      "hour_0              0.0090      0.002      5.918      0.000       0.006       0.012\n",
      "hour_1              0.0037      0.002      2.424      0.015       0.001       0.007\n",
      "hour_2              0.0041      0.002      2.656      0.008       0.001       0.007\n",
      "hour_3              0.0048      0.002      3.077      0.002       0.002       0.008\n",
      "hour_4              0.0016      0.002      1.026      0.305      -0.001       0.005\n",
      "hour_5             -0.0027      0.002     -1.778      0.075      -0.006       0.000\n",
      "hour_6             -0.0036      0.001     -2.419      0.016      -0.007      -0.001\n",
      "hour_7             -0.0119      0.001     -7.956      0.000      -0.015      -0.009\n",
      "hour_8             -0.0171      0.002    -11.318      0.000      -0.020      -0.014\n",
      "hour_9             -0.0139      0.002     -9.032      0.000      -0.017      -0.011\n",
      "hour_10            -0.0163      0.002    -10.459      0.000      -0.019      -0.013\n",
      "hour_11            -0.0115      0.002     -7.291      0.000      -0.015      -0.008\n",
      "hour_12            -0.0084      0.002     -5.304      0.000      -0.011      -0.005\n",
      "hour_13            -0.0057      0.002     -3.600      0.000      -0.009      -0.003\n",
      "hour_14            -0.0016      0.002     -1.060      0.289      -0.005       0.001\n",
      "hour_15             0.0027      0.002      1.765      0.078      -0.000       0.006\n",
      "hour_16             0.0064      0.002      4.256      0.000       0.003       0.009\n",
      "hour_17             0.0114      0.001      7.640      0.000       0.008       0.014\n",
      "hour_18             0.0103      0.001      6.881      0.000       0.007       0.013\n",
      "hour_19             0.0086      0.001      5.761      0.000       0.006       0.012\n",
      "hour_20             0.0092      0.002      6.113      0.000       0.006       0.012\n",
      "hour_21             0.0067      0.002      4.414      0.000       0.004       0.010\n",
      "hour_22             0.0122      0.002      7.992      0.000       0.009       0.015\n",
      "hour_23             0.0059      0.002      3.864      0.000       0.003       0.009\n",
      "month_1                  0          0        nan        nan           0           0\n",
      "month_2                  0          0        nan        nan           0           0\n",
      "month_3                  0          0        nan        nan           0           0\n",
      "month_4             0.0062      0.002      3.943      0.000       0.003       0.009\n",
      "month_5            -0.0042      0.001     -2.953      0.003      -0.007      -0.001\n",
      "month_6             0.0050      0.001      3.570      0.000       0.002       0.008\n",
      "month_7             0.0142      0.001     11.319      0.000       0.012       0.017\n",
      "month_8             0.0183      0.001     12.991      0.000       0.016       0.021\n",
      "month_9             0.0230      0.002     14.209      0.000       0.020       0.026\n",
      "month_10           -0.0586      0.002    -27.308      0.000      -0.063      -0.054\n",
      "month_11                 0          0        nan        nan           0           0\n",
      "PUE_lag_1           0.1458      0.004     37.583      0.000       0.138       0.153\n",
      "PUE_lag_one_day     0.0784      0.004     21.166      0.000       0.071       0.086\n",
      "==============================================================================\n",
      "Omnibus:                    28524.053   Durbin-Watson:                   1.435\n",
      "Prob(Omnibus):                  0.000   Jarque-Bera (JB):         17681853.871\n",
      "Skew:                          -0.923   Prob(JB):                         0.00\n",
      "Kurtosis:                      87.544   Cond. No.                     1.31e+20\n",
      "==============================================================================\n",
      "\n",
      "Notes:\n",
      "[1] Standard Errors assume that the covariance matrix of the errors is correctly specified.\n",
      "[2] The smallest eigenvalue is 2.7e-27. This might indicate that there are\n",
      "strong multicollinearity problems or that the design matrix is singular.\n"
     ]
    }
   ],
   "source": [
    "reg_model = sm.ols(formula=formula, data=DATA).fit()\n",
    "print(reg_model.summary())"
   ]
  }
 ],
 "metadata": {
  "kernelspec": {
   "display_name": "Python 3 (ipykernel)",
   "language": "python",
   "name": "python3"
  },
  "language_info": {
   "codemirror_mode": {
    "name": "ipython",
    "version": 3
   },
   "file_extension": ".py",
   "mimetype": "text/x-python",
   "name": "python",
   "nbconvert_exporter": "python",
   "pygments_lexer": "ipython3",
   "version": "3.9.15"
  }
 },
 "nbformat": 4,
 "nbformat_minor": 5
}
