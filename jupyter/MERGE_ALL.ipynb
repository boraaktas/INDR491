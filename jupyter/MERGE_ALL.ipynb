{
 "cells": [
  {
   "cell_type": "code",
   "execution_count": 1,
   "metadata": {},
   "outputs": [],
   "source": [
    "import pandas as pd\n",
    "import os"
   ]
  },
  {
   "cell_type": "code",
   "execution_count": 2,
   "metadata": {},
   "outputs": [],
   "source": [
    "DATA_FOLDER_PATH = os.getcwd() + '/../data/KS VERI/CLEAN_DATA/'"
   ]
  },
  {
   "cell_type": "code",
   "execution_count": 3,
   "metadata": {},
   "outputs": [],
   "source": [
    "FILE_NAMES = ['KS10_KLIMA_VERILERI.csv',\n",
    "              'KS10_KLIMA_TUKETIM.csv',\n",
    "              'KS10_UDP_TUKETIM.csv',\n",
    "              'CHILLER_ve_MEKANİK_ROOM.csv',\n",
    "              'CHILLER_NONAN_NOEXTREME_10_35.csv',\n",
    "              'CHILLER_NONAN.csv',\n",
    "              'CHILLER.csv',\n",
    "              'KS10_SENSOR_I.csv',\n",
    "              'KS10_SENSOR_II.csv',]"
   ]
  },
  {
   "cell_type": "code",
   "execution_count": 4,
   "metadata": {},
   "outputs": [],
   "source": [
    "# Read all files\n",
    "df_list = []\n",
    "for file_name in FILE_NAMES:\n",
    "    df = pd.read_csv(DATA_FOLDER_PATH + file_name)\n",
    "    df_list.append(df)"
   ]
  },
  {
   "cell_type": "code",
   "execution_count": 5,
   "metadata": {},
   "outputs": [],
   "source": [
    "# put all dataframes together in a excel file with multiple sheets\n",
    "with pd.ExcelWriter(os.getcwd() + '/../data/KS VERI/KS10_MASTER_DATA.xlsx') as writer:\n",
    "    for i in range(len(FILE_NAMES)):\n",
    "        df_list[i].to_excel(writer, sheet_name=FILE_NAMES[i][:-4], index=False)"
   ]
  }
 ],
 "metadata": {
  "kernelspec": {
   "display_name": "INDR491",
   "language": "python",
   "name": "python3"
  },
  "language_info": {
   "codemirror_mode": {
    "name": "ipython",
    "version": 3
   },
   "file_extension": ".py",
   "mimetype": "text/x-python",
   "name": "python",
   "nbconvert_exporter": "python",
   "pygments_lexer": "ipython3",
   "version": "3.11.5"
  }
 },
 "nbformat": 4,
 "nbformat_minor": 2
}
