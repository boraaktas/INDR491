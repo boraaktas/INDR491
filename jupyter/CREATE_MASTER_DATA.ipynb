{
 "cells": [
  {
   "cell_type": "code",
   "execution_count": 1,
   "metadata": {
    "ExecuteTime": {
     "end_time": "2023-11-26T01:12:56.491654Z",
     "start_time": "2023-11-26T01:12:56.271051Z"
    }
   },
   "outputs": [],
   "source": [
    "import pandas as pd\n",
    "import os"
   ]
  },
  {
   "cell_type": "code",
   "execution_count": 2,
   "metadata": {
    "ExecuteTime": {
     "end_time": "2023-11-26T01:12:56.539718Z",
     "start_time": "2023-11-26T01:12:56.532582Z"
    }
   },
   "outputs": [],
   "source": [
    "DATA_FOLDER_PATH = os.getcwd() + '/data/KS VERI/CLEAN_DATA/'"
   ]
  },
  {
   "cell_type": "code",
   "execution_count": 3,
   "metadata": {
    "ExecuteTime": {
     "end_time": "2023-11-26T01:12:56.736791Z",
     "start_time": "2023-11-26T01:12:56.732764Z"
    }
   },
   "outputs": [],
   "source": [
    "FILE_NAMES = ['KS10_PUE.csv',\n",
    "              'KS10_KLIMA_VERILERI.csv',\n",
    "              'KS10_KLIMA_TUKETIM.csv',\n",
    "              'KS10_UDP_TUKETIM.csv',\n",
    "              'CHILLER_ve_MEKANİK_ROOM.csv',\n",
    "              'CHILLER.csv',\n",
    "              'KS10_SENSOR_I.csv',\n",
    "              'KS10_SENSOR_II.csv',\n",
    "              'OUTLET_WEATHER_DATA.csv',\n",
    "              'KS10_ESTIMATED_SENSOR_TEMPS.csv']"
   ]
  },
  {
   "cell_type": "code",
   "execution_count": 4,
   "metadata": {
    "ExecuteTime": {
     "end_time": "2023-11-26T01:12:57.346578Z",
     "start_time": "2023-11-26T01:12:57.035500Z"
    }
   },
   "outputs": [
    {
     "name": "stdout",
     "output_type": "stream",
     "text": [
      "KS10_PUE.csv\n",
      "KS10_KLIMA_VERILERI.csv\n",
      "KS10_KLIMA_TUKETIM.csv\n",
      "KS10_UDP_TUKETIM.csv\n",
      "CHILLER_ve_MEKANİK_ROOM.csv\n",
      "CHILLER.csv\n",
      "KS10_SENSOR_I.csv\n",
      "KS10_SENSOR_II.csv\n",
      "OUTLET_WEATHER_DATA.csv\n",
      "KS10_ESTIMATED_SENSOR_TEMPS.csv\n"
     ]
    }
   ],
   "source": [
    "# Read all files\n",
    "df_list = []\n",
    "for file_name in FILE_NAMES:\n",
    "    print(file_name)\n",
    "    df = pd.read_csv(DATA_FOLDER_PATH + file_name)\n",
    "    df_list.append(df)"
   ]
  },
  {
   "cell_type": "code",
   "execution_count": 6,
   "metadata": {
    "ExecuteTime": {
     "end_time": "2023-11-26T01:13:39.211710Z",
     "start_time": "2023-11-26T01:13:01.159708Z"
    }
   },
   "outputs": [
    {
     "name": "stdout",
     "output_type": "stream",
     "text": [
      "KS10_PUE.csv\n",
      "KS10_KLIMA_VERILERI.csv\n",
      "KS10_KLIMA_TUKETIM.csv\n",
      "KS10_UDP_TUKETIM.csv\n",
      "CHILLER_ve_MEKANİK_ROOM.csv\n",
      "CHILLER.csv\n",
      "KS10_SENSOR_I.csv\n",
      "KS10_SENSOR_II.csv\n",
      "OUTLET_WEATHER_DATA.csv\n",
      "KS10_ESTIMATED_SENSOR_TEMPS.csv\n"
     ]
    }
   ],
   "source": [
    "# put all dataframes together in an Excel file with multiple sheets\n",
    "with pd.ExcelWriter(os.getcwd() + '/data/KS VERI/KS10_MASTER_DATA.xlsx') as writer:\n",
    "    for i in range(len(FILE_NAMES)):\n",
    "        print(FILE_NAMES[i])\n",
    "        df_list[i].to_excel(writer, sheet_name=FILE_NAMES[i][:-4], index=False)"
   ]
  },
  {
   "cell_type": "code",
   "execution_count": null,
   "metadata": {},
   "outputs": [],
   "source": []
  },
  {
   "cell_type": "code",
   "execution_count": null,
   "metadata": {},
   "outputs": [],
   "source": []
  }
 ],
 "metadata": {
  "kernelspec": {
   "display_name": "Python 3 (ipykernel)",
   "language": "python",
   "name": "python3"
  },
  "language_info": {
   "codemirror_mode": {
    "name": "ipython",
    "version": 3
   },
   "file_extension": ".py",
   "mimetype": "text/x-python",
   "name": "python",
   "nbconvert_exporter": "python",
   "pygments_lexer": "ipython3",
   "version": "3.8.18"
  }
 },
 "nbformat": 4,
 "nbformat_minor": 2
}
