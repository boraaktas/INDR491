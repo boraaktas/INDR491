{
 "cells": [
  {
   "cell_type": "code",
   "execution_count": 1,
   "metadata": {},
   "outputs": [],
   "source": [
    "import pandas as pd\n",
    "import os\n",
    "import re"
   ]
  },
  {
   "cell_type": "code",
   "execution_count": 2,
   "metadata": {},
   "outputs": [],
   "source": [
    "DATA_FOLDER_PATH = os.getcwd() + '/../data/KS VERI/KS10/'"
   ]
  },
  {
   "cell_type": "code",
   "execution_count": 3,
   "metadata": {},
   "outputs": [],
   "source": [
    "FILE_NAMES = ['KS10 SENSOR-1 ISI (Room Sensor).xlsx',\n",
    "              'KS10 SENSOR-2 ISI (Room Sensor).xlsx']"
   ]
  },
  {
   "cell_type": "code",
   "execution_count": 4,
   "metadata": {},
   "outputs": [],
   "source": [
    "PATHS = [DATA_FOLDER_PATH + file_name for file_name in FILE_NAMES]"
   ]
  },
  {
   "cell_type": "code",
   "execution_count": 5,
   "metadata": {},
   "outputs": [],
   "source": [
    "SENSOR_I_DF = pd.read_excel(PATHS[0], sheet_name='KS10 SENSOR-1 ISI (4)')\n",
    "SENSOR_II_DF = pd.read_excel(PATHS[1], sheet_name='KS10 SENSOR-2 ISI (4)')"
   ]
  },
  {
   "cell_type": "code",
   "execution_count": 6,
   "metadata": {},
   "outputs": [],
   "source": [
    "def get_INNER_TEMP(sensor_number: int,\n",
    "                   date_time: str) -> float:\n",
    "    \"\"\"\n",
    "    Get the closest inner temperature value to the given date time.\n",
    "    \n",
    "    Args:\n",
    "        sensor_number: The sensor number.\n",
    "        date_time: The date time.\n",
    "    \n",
    "    Returns:\n",
    "        The inner temperature value.\n",
    "    \"\"\"\n",
    "    \n",
    "    if sensor_number > 2 or sensor_number < 1:\n",
    "        raise ValueError('sensor_number must be 1 or 2.')\n",
    "    \n",
    "    # check if the date time is in the correct format with regex\n",
    "    if not re.match(r'\\d{2}\\.\\d{2}\\.\\d{4} \\d{2}:\\d{2}:\\d{2}', date_time):\n",
    "        raise ValueError('date_time must be in the format of dd.mm.yyyy hh:mm:ss')\n",
    "    \n",
    "    if sensor_number == 1:\n",
    "        sensor_df = SENSOR_I_DF\n",
    "    else:\n",
    "        sensor_df = SENSOR_II_DF\n",
    "        \n",
    "    # convert the date time to datetime object\n",
    "    date_time = pd.to_datetime(date_time, dayfirst=True)\n",
    "        \n",
    "    # find the closest date time\n",
    "    closest_date_time = min(sensor_df['Date Time'],\n",
    "                            key=lambda x: abs(x - date_time))\n",
    "    \n",
    "    # get the inner temperature value\n",
    "    inner_temp = sensor_df[sensor_df['Date Time'] == closest_date_time]['KN-2 SENSOR-' + str(sensor_number) + ' ISI'].values[0]\n",
    "    \n",
    "    return inner_temp"
   ]
  },
  {
   "cell_type": "code",
   "execution_count": 7,
   "metadata": {},
   "outputs": [
    {
     "data": {
      "text/plain": [
       "27.2532"
      ]
     },
     "execution_count": 7,
     "metadata": {},
     "output_type": "execute_result"
    }
   ],
   "source": [
    "get_INNER_TEMP(1, '26.08.2020 10:16:00')"
   ]
  },
  {
   "cell_type": "code",
   "execution_count": 8,
   "metadata": {},
   "outputs": [],
   "source": [
    "# save dfs to csv files\n",
    "SENSOR_I_DF.to_csv(os.getcwd() + '/../data/KS VERI/CLEAN_DATA/KS10_SENSOR_I.csv', index=False)\n",
    "SENSOR_II_DF.to_csv(os.getcwd() + '/../data/KS VERI/CLEAN_DATA/KS10_SENSOR_II.csv', index=False)"
   ]
  }
 ],
 "metadata": {
  "kernelspec": {
   "display_name": "INDR491",
   "language": "python",
   "name": "python3"
  },
  "language_info": {
   "codemirror_mode": {
    "name": "ipython",
    "version": 3
   },
   "file_extension": ".py",
   "mimetype": "text/x-python",
   "name": "python",
   "nbconvert_exporter": "python",
   "pygments_lexer": "ipython3",
   "version": "3.11.5"
  }
 },
 "nbformat": 4,
 "nbformat_minor": 2
}
